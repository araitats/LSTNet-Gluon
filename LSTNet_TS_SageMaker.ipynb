{
 "cells": [
  {
   "cell_type": "markdown",
   "metadata": {},
   "source": [
    "# LSTNet SageMaker End to End"
   ]
  },
  {
   "cell_type": "markdown",
   "metadata": {},
   "source": [
    "## Download datasets"
   ]
  },
  {
   "cell_type": "code",
   "execution_count": 1,
   "metadata": {},
   "outputs": [],
   "source": [
    "#!git clone https://github.com/laiguokun/multivariate-time-series-data"
   ]
  },
  {
   "cell_type": "markdown",
   "metadata": {},
   "source": [
    "## Unzip files"
   ]
  },
  {
   "cell_type": "code",
   "execution_count": 2,
   "metadata": {},
   "outputs": [],
   "source": [
    "#!gunzip multivariate-time-series-data/electricity/electricity.txt.gz\n",
    "#!gunzip multivariate-time-series-data/exchange_rate/exchange_rate.txt.gz\n",
    "#!gunzip multivariate-time-series-data/solar-energy/solar_AL.txt.gz\n",
    "#!gunzip multivariate-time-series-data/traffic/traffic.txt.gz"
   ]
  },
  {
   "cell_type": "markdown",
   "metadata": {},
   "source": [
    "## Fetch file names and paths"
   ]
  },
  {
   "cell_type": "code",
   "execution_count": 3,
   "metadata": {},
   "outputs": [
    {
     "name": "stdout",
     "output_type": "stream",
     "text": [
      "['multivariate-time-series-data/traffic/traffic.txt', 'multivariate-time-series-data/exchange_rate/exchange_rate.txt', 'multivariate-time-series-data/solar-energy/solar_AL.txt', 'multivariate-time-series-data/electricity/electricity.txt']\n"
     ]
    }
   ],
   "source": [
    "import glob\n",
    "file_paths = glob.glob(\"multivariate-time-series-data/*/*.txt\")\n",
    "print(file_paths)"
   ]
  },
  {
   "cell_type": "markdown",
   "metadata": {},
   "source": [
    "## Select a time-series data"
   ]
  },
  {
   "cell_type": "code",
   "execution_count": 4,
   "metadata": {},
   "outputs": [
    {
     "name": "stdout",
     "output_type": "stream",
     "text": [
      "('electricity.txt', 'multivariate-time-series-data/electricity/electricity.txt')\n"
     ]
    }
   ],
   "source": [
    "file_id = 3\n",
    "file_path = file_paths[file_id]\n",
    "text_file_name = file_paths[file_id].split('/')[-1]\n",
    "print(text_file_name, file_path)"
   ]
  },
  {
   "cell_type": "markdown",
   "metadata": {},
   "source": [
    "# SageMaker Training Session"
   ]
  },
  {
   "cell_type": "code",
   "execution_count": 5,
   "metadata": {},
   "outputs": [],
   "source": [
    "import  os\n",
    "import  boto3\n",
    "import  sagemaker\n",
    "from sagemaker.mxnet import MXNet\n",
    "from mxnet import gluon\n",
    "from sagemaker import get_execution_role\n",
    "\n",
    "sagemaker_session = sagemaker.Session()\n",
    "\n",
    "role = get_execution_role()"
   ]
  },
  {
   "cell_type": "markdown",
   "metadata": {},
   "source": [
    "## Upload to S3"
   ]
  },
  {
   "cell_type": "code",
   "execution_count": 6,
   "metadata": {},
   "outputs": [
    {
     "name": "stderr",
     "output_type": "stream",
     "text": [
      "INFO:sagemaker:Created S3 bucket: sagemaker-us-east-1-148886336128\n"
     ]
    }
   ],
   "source": [
    "inputs = sagemaker_session.upload_data(path=file_path, key_prefix='data/LSTNet')"
   ]
  },
  {
   "cell_type": "markdown",
   "metadata": {},
   "source": [
    "## Set MXNet object"
   ]
  },
  {
   "cell_type": "code",
   "execution_count": 7,
   "metadata": {},
   "outputs": [],
   "source": [
    "m = MXNet(\"lstnet.py\", \n",
    "          role=role, \n",
    "          train_instance_count=1, \n",
    "          train_instance_type=\"ml.p2.xlarge\",\n",
    "          hyperparameters={'batch_size': 128, \n",
    "                           'epochs': 3,\n",
    "                           'num_gpus': 1,\n",
    "                           'conv_hid': 100,\n",
    "                           'gru_hid': 100,\n",
    "                           'skip_gru_hid': 5,\n",
    "                           'skip': 24,\n",
    "                           'ar_window': 24, \n",
    "                           'text_file': text_file_name\n",
    "                          })"
   ]
  },
  {
   "cell_type": "markdown",
   "metadata": {},
   "source": [
    "# Start training"
   ]
  },
  {
   "cell_type": "code",
   "execution_count": 8,
   "metadata": {
    "scrolled": false
   },
   "outputs": [
    {
     "name": "stderr",
     "output_type": "stream",
     "text": [
      "INFO:sagemaker:Created S3 bucket: sagemaker-us-east-1-148886336128\n",
      "INFO:sagemaker:Creating training-job with name: sagemaker-mxnet-2018-06-19-18-43-01-239\n"
     ]
    },
    {
     "name": "stdout",
     "output_type": "stream",
     "text": [
      "..........................\n",
      "\u001b[31m2018-06-19 18:47:08,652 INFO - root - running container entrypoint\u001b[0m\n",
      "\u001b[31m2018-06-19 18:47:08,653 INFO - root - starting train task\u001b[0m\n",
      "\u001b[31m2018-06-19 18:47:08,673 INFO - container_support.training - Training starting\u001b[0m\n",
      "\u001b[31m2018-06-19 18:47:11,202 INFO - mxnet_container.train - MXNetTrainingEnvironment: {'enable_cloudwatch_metrics': False, 'available_gpus': 1, 'channels': {u'training': {u'TrainingInputMode': u'File', u'RecordWrapperType': u'None', u'S3DistributionType': u'FullyReplicated'}}, '_ps_verbose': 0, 'resource_config': {u'current_host': u'algo-1', u'network_interface_name': u'ethwe', u'hosts': [u'algo-1']}, 'user_script_name': u'lstnet.py', 'input_config_dir': '/opt/ml/input/config', 'channel_dirs': {u'training': u'/opt/ml/input/data/training'}, 'code_dir': '/opt/ml/code', 'output_data_dir': '/opt/ml/output/data/', 'output_dir': '/opt/ml/output', 'model_dir': '/opt/ml/model', 'hyperparameters': {u'sagemaker_program': u'lstnet.py', u'gru_hid': 100, u'text_file': u'electricity.txt', u'num_gpus': 1, u'ar_window': 24, u'skip': 24, u'conv_hid': 100, u'batch_size': 128, u'epochs': 3, u'skip_gru_hid': 5, u'sagemaker_submit_directory': u's3://sagemaker-us-east-1-148886336128/sagemaker-mxnet-2018-06-19-18-43-01-239/source/sourcedir.tar.gz', u'sagemaker_region': u'us-east-1', u'sagemaker_enable_cloudwatch_metrics': False, u'sagemaker_job_name': u'sagemaker-mxnet-2018-06-19-18-43-01-239', u'sagemaker_container_log_level': 20}, 'hosts': [u'algo-1'], 'job_name': 'sagemaker-mxnet-2018-06-19-18-43-01-239', '_ps_port': 8000, 'user_script_archive': u's3://sagemaker-us-east-1-148886336128/sagemaker-mxnet-2018-06-19-18-43-01-239/source/sourcedir.tar.gz', '_scheduler_host': u'algo-1', 'sagemaker_region': u'us-east-1', '_scheduler_ip': '10.32.0.4', 'input_dir': '/opt/ml/input', 'user_requirements_file': None, 'current_host': u'algo-1', 'container_log_level': 20, 'available_cpus': 4, 'base_dir': '/opt/ml'}\u001b[0m\n",
      "\u001b[31mDownloading s3://sagemaker-us-east-1-148886336128/sagemaker-mxnet-2018-06-19-18-43-01-239/source/sourcedir.tar.gz to /tmp/script.tar.gz\u001b[0m\n",
      "\u001b[31m2018-06-19 18:47:11,356 INFO - botocore.vendored.requests.packages.urllib3.connectionpool - Starting new HTTP connection (1): 169.254.170.2\u001b[0m\n",
      "\u001b[31m2018-06-19 18:47:11,480 INFO - botocore.vendored.requests.packages.urllib3.connectionpool - Starting new HTTPS connection (1): sagemaker-us-east-1-148886336128.s3.amazonaws.com\u001b[0m\n",
      "\u001b[31m2018-06-19 18:47:11,602 INFO - mxnet_container.train - Starting distributed training task\u001b[0m\n",
      "\u001b[31mTraining Start\u001b[0m\n",
      "\u001b[31m[18:47:20] src/operator/nn/./cudnn/./cudnn_algoreg-inl.h:107: Running performance tests to find the best convolution algorithm, this can take a while... (setting env variable MXNET_CUDNN_AUTOTUNE_DEFAULT to 0 to disable)\u001b[0m\n",
      "\u001b[31mEpoch   0: loss 1.004e+03\u001b[0m\n",
      "\u001b[31mEpoch   1: loss 487.6\u001b[0m\n",
      "\u001b[31mEpoch   2: loss 405.4\u001b[0m\n",
      "\u001b[31mTraining End\u001b[0m\n",
      "===== Job Complete =====\n",
      "Billable seconds: 225\n"
     ]
    }
   ],
   "source": [
    "m.fit(inputs)"
   ]
  },
  {
   "cell_type": "markdown",
   "metadata": {},
   "source": [
    "# SageMaker Inference Test"
   ]
  },
  {
   "cell_type": "markdown",
   "metadata": {},
   "source": [
    "## Set inference endpoint"
   ]
  },
  {
   "cell_type": "code",
   "execution_count": 9,
   "metadata": {},
   "outputs": [],
   "source": [
    "#from  sagemaker.mxnet.model  import MXNetModel\n",
    "#\n",
    "#training_job_name = m.latest_training_job.name\n",
    "#sagemaker_model = MXNetModel(model_data= 's3://<s3 bucket>/{}/output/model.tar.gz'.format(training_job_name),\n",
    "#                             role=role,\n",
    "#                             entry_point='lstnet.py')"
   ]
  },
  {
   "cell_type": "code",
   "execution_count": 10,
   "metadata": {},
   "outputs": [
    {
     "name": "stderr",
     "output_type": "stream",
     "text": [
      "INFO:sagemaker:Creating model with name: sagemaker-mxnet-2018-06-19-18-43-01-239\n",
      "INFO:sagemaker:Creating endpoint with name sagemaker-mxnet-2018-06-19-18-43-01-239\n"
     ]
    },
    {
     "name": "stdout",
     "output_type": "stream",
     "text": [
      "--------------------------------------------------------------!"
     ]
    }
   ],
   "source": [
    "predictor = m.deploy(initial_instance_count=1, instance_type='ml.m4.xlarge')"
   ]
  },
  {
   "cell_type": "markdown",
   "metadata": {},
   "source": [
    "## Validate with the original data"
   ]
  },
  {
   "cell_type": "code",
   "execution_count": 11,
   "metadata": {},
   "outputs": [],
   "source": [
    "from __future__ import print_function\n",
    "\n",
    "from mxnet import gluon\n",
    "import numpy as np\n",
    "\n",
    "\n",
    "class TimeSeriesData(object):\n",
    "    \"\"\"\n",
    "    Reads data from file and creates training and validation datasets\n",
    "    \"\"\"\n",
    "    def __init__(self, file_path, window, horizon, train_ratio=0.8):\n",
    "        \"\"\"\n",
    "        :param str file_path: path to the data file (e.g. electricity.txt)\n",
    "        \"\"\"\n",
    "        # with open(file_path) as f:\n",
    "        data = np.loadtxt(file_path, delimiter=',', dtype=np.float32)\n",
    "        data = self._normalize(data)\n",
    "        train_data_len = int(len(data) * train_ratio)\n",
    "        self.num_series = data.shape[1]\n",
    "        if train_ratio > 0.0:\n",
    "            self.train = TimeSeriesDataset(data[:train_data_len], window=window, horizon=horizon)\n",
    "        if train_ratio < 1.0:\n",
    "            self.val = TimeSeriesDataset(data[train_data_len:], window=window, horizon=horizon)\n",
    "\n",
    "    def _normalize(self, data):\n",
    "        \"\"\" Normalizes data by maximum value per row (i.e. per time series) and saves the scaling factor\n",
    "\n",
    "        :param np.ndarray data: input data to be normalized\n",
    "        :return: normalized data\n",
    "        :rtype np.ndarray\n",
    "        \"\"\"\n",
    "        self.scale = np.max(data, axis=0)\n",
    "        return data / self.scale\n",
    "\n",
    "\n",
    "class TimeSeriesDataset(gluon.data.Dataset):\n",
    "    \"\"\"\n",
    "    Dataset that splits the data into a dense overlapping windows\n",
    "    \"\"\"\n",
    "    def __init__(self, data, window, horizon, transform=None):\n",
    "        \"\"\"\n",
    "        :param np.ndarray data: time-series data in TC layout (T: sequence len, C: channels)\n",
    "        :param int window: context window size\n",
    "        :param int horizon: prediction horizon\n",
    "        :param function transform: data transformation function: fn(data, label)\n",
    "        \"\"\"\n",
    "        super(TimeSeriesDataset, self).__init__()\n",
    "        self._data = data\n",
    "        self._window = window\n",
    "        self._horizon = horizon\n",
    "        self._transform = transform\n",
    "\n",
    "    def __getitem__(self, idx):\n",
    "        \"\"\"\n",
    "        :param int idx: index of the item\n",
    "        :return: single item in 'TC' layout\n",
    "        :rtype np.ndarray\n",
    "        \"\"\"\n",
    "        assert idx < len(self)\n",
    "        data = self._data[idx:idx + self._window]\n",
    "        label = self._data[idx + self._window + self._horizon - 1]\n",
    "        if self._transform is not None:\n",
    "            return self._transform(data, label)\n",
    "        return data, label\n",
    "\n",
    "    def __len__(self):\n",
    "        \"\"\"\n",
    "        :return: length of the dataset\n",
    "        :rtype int\n",
    "        \"\"\"\n",
    "        return len(self._data) - self._window - self._horizon"
   ]
  },
  {
   "cell_type": "markdown",
   "metadata": {},
   "source": [
    "## Make a time series object from a text file"
   ]
  },
  {
   "cell_type": "code",
   "execution_count": 12,
   "metadata": {},
   "outputs": [],
   "source": [
    "ts_data = TimeSeriesData(file_path, window=24*7, horizon=24)"
   ]
  },
  {
   "cell_type": "markdown",
   "metadata": {},
   "source": [
    "## From TS object to data-loader to MX ND array to Numpy array\n",
    "End point predictor takes either list of numpy array data format. "
   ]
  },
  {
   "cell_type": "code",
   "execution_count": 13,
   "metadata": {},
   "outputs": [],
   "source": [
    "val_data_loader = gluon.data.DataLoader(ts_data.val, batch_size=2, shuffle=False, last_batch='discard')"
   ]
  },
  {
   "cell_type": "code",
   "execution_count": 14,
   "metadata": {},
   "outputs": [],
   "source": [
    "import mxnet as mx\n",
    "ctx = mx.cpu()\n",
    "for data, label in val_data_loader:\n",
    "    data = data.as_in_context(ctx)\n",
    "    label = label.as_in_context(ctx)\n",
    "    break"
   ]
  },
  {
   "cell_type": "code",
   "execution_count": 15,
   "metadata": {},
   "outputs": [],
   "source": [
    "preds = predictor.predict(data.asnumpy())"
   ]
  },
  {
   "cell_type": "markdown",
   "metadata": {},
   "source": [
    "## Validation viz"
   ]
  },
  {
   "cell_type": "code",
   "execution_count": 16,
   "metadata": {},
   "outputs": [
    {
     "data": {
      "image/png": "[encoded data removed]",
      "text/plain": [
       "<Figure size 432x288 with 1 Axes>"
      ]
     },
     "metadata": {},
     "output_type": "display_data"
    }
   ],
   "source": [
    "%matplotlib inline\n",
    "import matplotlib.pyplot as plt\n",
    "\n",
    "fig = plt.figure()\n",
    "ax1 = fig.add_subplot(111)\n",
    "line1, = ax1.plot(preds[0], label = 'prediction')\n",
    "line2, = ax1.plot(label.asnumpy()[0], label = 'ground truth')\n",
    "plt.show()"
   ]
  },
  {
   "cell_type": "markdown",
   "metadata": {},
   "source": [
    "## Clean up the Endpoint"
   ]
  },
  {
   "cell_type": "code",
   "execution_count": 17,
   "metadata": {},
   "outputs": [
    {
     "name": "stderr",
     "output_type": "stream",
     "text": [
      "INFO:sagemaker:Deleting endpoint with name: sagemaker-mxnet-2018-06-19-18-43-01-239\n"
     ]
    }
   ],
   "source": [
    "sagemaker.Session().delete_endpoint(predictor.endpoint)"
   ]
  },
  {
   "cell_type": "markdown",
   "metadata": {},
   "source": [
    "# End"
   ]
  }
 ],
 "metadata": {
  "kernelspec": {
   "display_name": "conda_mxnet_p27",
   "language": "python",
   "name": "conda_mxnet_p27"
  },
  "language_info": {
   "codemirror_mode": {
    "name": "ipython",
    "version": 2
   },
   "file_extension": ".py",
   "mimetype": "text/x-python",
   "name": "python",
   "nbconvert_exporter": "python",
   "pygments_lexer": "ipython2",
   "version": "2.7.14"
  }
 },
 "nbformat": 4,
 "nbformat_minor": 2
}
