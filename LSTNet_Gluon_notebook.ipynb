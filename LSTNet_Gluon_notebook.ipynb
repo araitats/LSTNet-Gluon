{
 "cells": [
  {
   "cell_type": "markdown",
   "metadata": {},
   "source": [
    "# LSTNet Gluon Notebook End to End"
   ]
  },
  {
   "cell_type": "markdown",
   "metadata": {},
   "source": [
    "## Download datasets"
   ]
  },
  {
   "cell_type": "code",
   "execution_count": 1,
   "metadata": {},
   "outputs": [],
   "source": [
    "#!git clone https://github.com/laiguokun/multivariate-time-series-data"
   ]
  },
  {
   "cell_type": "markdown",
   "metadata": {},
   "source": [
    "## Unzip files"
   ]
  },
  {
   "cell_type": "code",
   "execution_count": 2,
   "metadata": {},
   "outputs": [],
   "source": [
    "#!gunzip multivariate-time-series-data/electricity/electricity.txt.gz\n",
    "#!gunzip multivariate-time-series-data/exchange_rate/exchange_rate.txt.gz\n",
    "#!gunzip multivariate-time-series-data/solar-energy/solar_AL.txt.gz\n",
    "#!gunzip multivariate-time-series-data/traffic/traffic.txt.gz"
   ]
  },
  {
   "cell_type": "markdown",
   "metadata": {},
   "source": [
    "## Fetch file names and paths"
   ]
  },
  {
   "cell_type": "code",
   "execution_count": 3,
   "metadata": {},
   "outputs": [
    {
     "name": "stdout",
     "output_type": "stream",
     "text": [
      "['multivariate-time-series-data/solar-energy/solar_AL.txt', 'multivariate-time-series-data/electricity/electricity.txt', 'multivariate-time-series-data/exchange_rate/exchange_rate.txt', 'multivariate-time-series-data/traffic/traffic.txt']\n"
     ]
    }
   ],
   "source": [
    "import glob\n",
    "file_paths = glob.glob(\"multivariate-time-series-data/*/*.txt\")\n",
    "print(file_paths)"
   ]
  },
  {
   "cell_type": "markdown",
   "metadata": {},
   "source": [
    "## Select time-series data"
   ]
  },
  {
   "cell_type": "code",
   "execution_count": 4,
   "metadata": {},
   "outputs": [
    {
     "name": "stdout",
     "output_type": "stream",
     "text": [
      "('electricity.txt', 'multivariate-time-series-data/electricity/electricity.txt', 'output/model.param')\n"
     ]
    }
   ],
   "source": [
    "file_id = 1\n",
    "file_path = file_paths[file_id]\n",
    "text_file_name = file_paths[file_id].split('/')[-1]\n",
    "out_path = 'output/model.param'\n",
    "print(text_file_name, file_path, out_path)"
   ]
  },
  {
   "cell_type": "markdown",
   "metadata": {},
   "source": [
    "## LSTNet object"
   ]
  },
  {
   "cell_type": "code",
   "execution_count": 5,
   "metadata": {},
   "outputs": [
    {
     "name": "stderr",
     "output_type": "stream",
     "text": [
      "/usr/local/lib/python2.7/dist-packages/h5py/__init__.py:36: FutureWarning: Conversion of the second argument of issubdtype from `float` to `np.floating` is deprecated. In future, it will be treated as `np.float64 == np.dtype(float).type`.\n",
      "  from ._conv import register_converters as _register_converters\n"
     ]
    }
   ],
   "source": [
    "from __future__ import print_function\n",
    "\n",
    "import mxnet as mx\n",
    "from mxnet import nd, gluon, autograd\n",
    "from mxnet.gluon import nn, rnn\n",
    "\n",
    "\n",
    "class LSTNet(gluon.Block):\n",
    "    \"\"\"\n",
    "    LSTNet auto-regressive block\n",
    "    \"\"\"\n",
    "    def __init__(self, ctx):\n",
    "        super(LSTNet, self).__init__()\n",
    "        self.ctx = ctx\n",
    "        \n",
    "    def build_model(self, num_series, conv_hid, gru_hid, skip_gru_hid, skip, ar_window):\n",
    "        kernel_size = 6\n",
    "        dropout_rate = 0.2\n",
    "        self.skip = skip\n",
    "        self.ar_window = ar_window\n",
    "        with self.name_scope():\n",
    "            self.conv = nn.Conv1D(conv_hid, kernel_size=kernel_size, layout='NCW', activation='relu')\n",
    "            self.dropout = nn.Dropout(dropout_rate)\n",
    "            self.gru = rnn.GRU(gru_hid, layout='TNC')\n",
    "            self.skip_gru = rnn.GRU(skip_gru_hid, layout='TNC')\n",
    "            self.fc = nn.Dense(num_series)\n",
    "            self.ar_fc = nn.Dense(1)\n",
    "\n",
    "    def forward(self, x):\n",
    "        \"\"\"\n",
    "        :param nd.NDArray x: input data in NTC layout (N: batch-size, T: sequence len, C: channels)\n",
    "        :return: output of LSTNet in NC layout\n",
    "        :rtype nd.NDArray\n",
    "        \"\"\"\n",
    "        # Convolution\n",
    "        c = self.conv(x.transpose((0, 2, 1)))  # Transpose NTC to to NCT (a.k.a NCW) before convolution\n",
    "        c = self.dropout(c)\n",
    "\n",
    "        # GRU\n",
    "        r = self.gru(c.transpose((2, 0, 1)))  # Transpose NCT to TNC before GRU\n",
    "        r = r[-1]  # Only keep the last output\n",
    "        r = self.dropout(r)  # Now in NC layout\n",
    "\n",
    "        # Skip GRU\n",
    "        # Slice off multiples of skip from convolution output\n",
    "        skip_c = c[:, :, -(c.shape[2] // self.skip) * self.skip:]\n",
    "        skip_c = skip_c.reshape((c.shape[0], c.shape[1], -1, self.skip))  # Reshape to NCT x skip\n",
    "        skip_c = skip_c.transpose((2, 0, 3, 1))  # Transpose to T x N x skip x C\n",
    "        skip_c = skip_c.reshape((skip_c.shape[0], -1, skip_c.shape[3]))  # Reshape to Tx (Nxskip) x C\n",
    "        s = self.skip_gru(skip_c)\n",
    "        s = s[-1]  # Only keep the last output (now in (Nxskip) x C layout)\n",
    "        s = s.reshape((x.shape[0], -1))  # Now in N x (skipxC) layout\n",
    "\n",
    "        # FC layer\n",
    "        fc = self.fc(nd.concat(r, s))  # NC layout\n",
    "\n",
    "        # Autoregressive highway\n",
    "        ar_x = x[:, -self.ar_window:, :]  # NTC layout\n",
    "        ar_x = ar_x.transpose((0, 2, 1))  # NCT layout\n",
    "        ar_x = ar_x.reshape((-1, ar_x.shape[2]))  # (NC) x T layout\n",
    "        ar = self.ar_fc(ar_x)\n",
    "        ar = ar.reshape((x.shape[0], -1))  # NC layout\n",
    "\n",
    "        # Add autoregressive and fc outputs\n",
    "        res = fc + ar\n",
    "        return res\n",
    "    \n",
    "    def compile_model(self, loss=None, lr = 0.001, clip_g = 10.):\n",
    "        self.collect_params().initialize(init=mx.init.Xavier(factor_type=\"in\", magnitude=2.34), ctx=self.ctx)\n",
    "        self.trainer = gluon.Trainer(self.collect_params(),\n",
    "                                     optimizer='adam',\n",
    "                                     optimizer_params={'learning_rate': lr, 'clip_gradient': clip_g})\n",
    "        self.loss = gluon.loss.L1Loss()\n",
    "    \n",
    "    def fit(self, ts_data, epochs = 100, batch_size = 128, out_path = 'model.params'):\n",
    "\n",
    "        ctx = self.ctx\n",
    "        \n",
    "        train_data_loader = gluon.data.DataLoader(\n",
    "            ts_data.train, batch_size=batch_size, shuffle=True, num_workers=16, last_batch='discard')\n",
    "\n",
    "        scale = nd.array(ts_data.scale, ctx=ctx)\n",
    "\n",
    "        loss = None\n",
    "        print(\"Training Start\")\n",
    "        for e in range(epochs):\n",
    "            epoch_loss = mx.nd.zeros((1,), ctx=ctx)\n",
    "            num_iter = 0\n",
    "            for data, label in train_data_loader:\n",
    "                data = data.as_in_context(ctx)\n",
    "                label = label.as_in_context(ctx)\n",
    "                if loss is not None:\n",
    "                    loss.wait_to_read()\n",
    "                with autograd.record():\n",
    "                    y_hat = self.forward(data)\n",
    "                    loss = self.loss(y_hat * scale, label * scale)\n",
    "                loss.backward()\n",
    "                self.trainer.step(batch_size)\n",
    "                epoch_loss = epoch_loss + loss.mean()\n",
    "                num_iter += 1\n",
    "            print(\"Epoch {:3d}: loss {:.4}\".format(e, epoch_loss.asscalar() / num_iter))\n",
    "\n",
    "        self.save_params(out_path)\n",
    "        print(\"Training End\")\n",
    "        return 0\n"
   ]
  },
  {
   "cell_type": "markdown",
   "metadata": {},
   "source": [
    "## TimeSeriesData"
   ]
  },
  {
   "cell_type": "code",
   "execution_count": 6,
   "metadata": {
    "collapsed": true
   },
   "outputs": [],
   "source": [
    "from __future__ import print_function\n",
    "\n",
    "from mxnet import gluon\n",
    "import numpy as np\n",
    "\n",
    "\n",
    "class TimeSeriesData(object):\n",
    "    \"\"\"\n",
    "    Reads data from file and creates training and validation datasets\n",
    "    \"\"\"\n",
    "    def __init__(self, file_path, window, horizon, train_ratio=0.8):\n",
    "        \"\"\"\n",
    "        :param str file_path: path to the data file (e.g. electricity.txt)\n",
    "        \"\"\"\n",
    "        # with open(file_path) as f:\n",
    "        data = np.loadtxt(file_path, delimiter=',', dtype=np.float32)\n",
    "        data = self._normalize(data)\n",
    "        train_data_len = int(len(data) * train_ratio)\n",
    "        self.num_series = data.shape[1]\n",
    "        if train_ratio > 0.0:\n",
    "            self.train = TimeSeriesDataset(data[:train_data_len], window=window, horizon=horizon)\n",
    "        if train_ratio < 1.0:\n",
    "            self.val = TimeSeriesDataset(data[train_data_len:], window=window, horizon=horizon)\n",
    "\n",
    "    def _normalize(self, data):\n",
    "        \"\"\" Normalizes data by maximum value per row (i.e. per time series) and saves the scaling factor\n",
    "\n",
    "        :param np.ndarray data: input data to be normalized\n",
    "        :return: normalized data\n",
    "        :rtype np.ndarray\n",
    "        \"\"\"\n",
    "        self.scale = np.max(data, axis=0)\n",
    "        return data / self.scale\n",
    "\n",
    "\n",
    "class TimeSeriesDataset(gluon.data.Dataset):\n",
    "    \"\"\"\n",
    "    Dataset that splits the data into a dense overlapping windows\n",
    "    \"\"\"\n",
    "    def __init__(self, data, window, horizon, transform=None):\n",
    "        \"\"\"\n",
    "        :param np.ndarray data: time-series data in TC layout (T: sequence len, C: channels)\n",
    "        :param int window: context window size\n",
    "        :param int horizon: prediction horizon\n",
    "        :param function transform: data transformation function: fn(data, label)\n",
    "        \"\"\"\n",
    "        super(TimeSeriesDataset, self).__init__()\n",
    "        self._data = data\n",
    "        self._window = window\n",
    "        self._horizon = horizon\n",
    "        self._transform = transform\n",
    "\n",
    "    def __getitem__(self, idx):\n",
    "        \"\"\"\n",
    "        :param int idx: index of the item\n",
    "        :return: single item in 'TC' layout\n",
    "        :rtype np.ndarray\n",
    "        \"\"\"\n",
    "        assert idx < len(self)\n",
    "        data = self._data[idx:idx + self._window]\n",
    "        label = self._data[idx + self._window + self._horizon - 1]\n",
    "        if self._transform is not None:\n",
    "            return self._transform(data, label)\n",
    "        return data, label\n",
    "\n",
    "    def __len__(self):\n",
    "        \"\"\"\n",
    "        :return: length of the dataset\n",
    "        :rtype int\n",
    "        \"\"\"\n",
    "        return len(self._data) - self._window - self._horizon"
   ]
  },
  {
   "cell_type": "markdown",
   "metadata": {},
   "source": [
    "## Make a time series object from a text file"
   ]
  },
  {
   "cell_type": "code",
   "execution_count": 7,
   "metadata": {
    "collapsed": true
   },
   "outputs": [],
   "source": [
    "ts_data = TimeSeriesData(file_path, window=24*7, horizon=24)"
   ]
  },
  {
   "cell_type": "markdown",
   "metadata": {},
   "source": [
    "# Training the model"
   ]
  },
  {
   "cell_type": "code",
   "execution_count": 8,
   "metadata": {},
   "outputs": [
    {
     "name": "stdout",
     "output_type": "stream",
     "text": [
      "Training Start\n",
      "Epoch   0: loss 972.2\n",
      "Epoch   1: loss 425.4\n",
      "Epoch   2: loss 357.7\n",
      "Training End\n"
     ]
    },
    {
     "data": {
      "text/plain": [
       "0"
      ]
     },
     "execution_count": 8,
     "metadata": {},
     "output_type": "execute_result"
    }
   ],
   "source": [
    "ctx = mx.gpu(0)\n",
    "model = LSTNet(ctx)\n",
    "model.build_model(num_series=ts_data.num_series,\n",
    "                  conv_hid=100,\n",
    "                  gru_hid=100,\n",
    "                  skip_gru_hid=5,\n",
    "                  skip=24,\n",
    "                  ar_window=24)\n",
    "model.compile_model()\n",
    "model.fit(ts_data, epochs = 3, batch_size = 128, out_path = out_path)"
   ]
  },
  {
   "cell_type": "markdown",
   "metadata": {
    "collapsed": true
   },
   "source": [
    "# Run inference using validation data"
   ]
  },
  {
   "cell_type": "code",
   "execution_count": 9,
   "metadata": {
    "collapsed": true
   },
   "outputs": [],
   "source": [
    "val_data_loader = gluon.data.DataLoader(ts_data.val, batch_size=2, shuffle=False, last_batch='discard')"
   ]
  },
  {
   "cell_type": "code",
   "execution_count": 10,
   "metadata": {
    "collapsed": true
   },
   "outputs": [],
   "source": [
    "import mxnet as mx\n",
    "for data, label in val_data_loader:\n",
    "    data = data.as_in_context(ctx)\n",
    "    label = label.as_in_context(ctx)\n",
    "    break"
   ]
  },
  {
   "cell_type": "code",
   "execution_count": 11,
   "metadata": {},
   "outputs": [],
   "source": [
    "preds = model(data)"
   ]
  },
  {
   "cell_type": "code",
   "execution_count": 12,
   "metadata": {},
   "outputs": [
    {
     "data": {
      "image/png": "[encoded data removed]",
      "text/plain": [
       "<matplotlib.figure.Figure at 0x7feeff338dd0>"
      ]
     },
     "metadata": {},
     "output_type": "display_data"
    }
   ],
   "source": [
    "%matplotlib inline\n",
    "import matplotlib.pyplot as plt\n",
    "\n",
    "fig = plt.figure()\n",
    "ax1 = fig.add_subplot(111)\n",
    "line1, = ax1.plot(preds.asnumpy()[0], label = 'prediction')\n",
    "line2, = ax1.plot(label.asnumpy()[0], label = 'ground truth')\n",
    "plt.show()"
   ]
  },
  {
   "cell_type": "code",
   "execution_count": null,
   "metadata": {
    "collapsed": true
   },
   "outputs": [],
   "source": []
  }
 ],
 "metadata": {
  "kernelspec": {
   "display_name": "Python 2",
   "language": "python",
   "name": "python2"
  },
  "language_info": {
   "codemirror_mode": {
    "name": "ipython",
    "version": 2
   },
   "file_extension": ".py",
   "mimetype": "text/x-python",
   "name": "python",
   "nbconvert_exporter": "python",
   "pygments_lexer": "ipython2",
   "version": "2.7.12"
  }
 },
 "nbformat": 4,
 "nbformat_minor": 2
}
